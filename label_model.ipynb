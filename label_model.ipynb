{
 "cells": [
  {
   "cell_type": "markdown",
   "id": "cdb51630",
   "metadata": {},
   "source": [
    "## Загрузка необходимых библиотек"
   ]
  },
  {
   "cell_type": "code",
   "execution_count": 1,
   "id": "7f485bee",
   "metadata": {},
   "outputs": [],
   "source": [
    "# импорт необходимых библиотек\n",
    "\n",
    "import pandas as pd\n",
    "import numpy as np\n",
    "import seaborn as sns\n",
    "import matplotlib.pyplot as plt\n",
    "\n",
    "from sklearn.naive_bayes import CategoricalNB\n",
    "from sklearn.metrics import recall_score\n",
    "\n",
    "%matplotlib inline"
   ]
  },
  {
   "cell_type": "markdown",
   "id": "732b554e",
   "metadata": {},
   "source": [
    "## Считывание данных"
   ]
  },
  {
   "cell_type": "code",
   "execution_count": 2,
   "id": "a5020e43",
   "metadata": {},
   "outputs": [
    {
     "data": {
      "text/html": [
       "<div>\n",
       "<style scoped>\n",
       "    .dataframe tbody tr th:only-of-type {\n",
       "        vertical-align: middle;\n",
       "    }\n",
       "\n",
       "    .dataframe tbody tr th {\n",
       "        vertical-align: top;\n",
       "    }\n",
       "\n",
       "    .dataframe thead th {\n",
       "        text-align: right;\n",
       "    }\n",
       "</style>\n",
       "<table border=\"1\" class=\"dataframe\">\n",
       "  <thead>\n",
       "    <tr style=\"text-align: right;\">\n",
       "      <th></th>\n",
       "      <th>ticket_id</th>\n",
       "      <th>ticket_type_nm</th>\n",
       "      <th>entrance_id</th>\n",
       "      <th>entrance_nm</th>\n",
       "      <th>station_id</th>\n",
       "      <th>station_nm</th>\n",
       "      <th>line_id</th>\n",
       "      <th>line_nm</th>\n",
       "      <th>pass_dttm</th>\n",
       "      <th>time_to_under</th>\n",
       "      <th>label</th>\n",
       "    </tr>\n",
       "    <tr>\n",
       "      <th>id</th>\n",
       "      <th></th>\n",
       "      <th></th>\n",
       "      <th></th>\n",
       "      <th></th>\n",
       "      <th></th>\n",
       "      <th></th>\n",
       "      <th></th>\n",
       "      <th></th>\n",
       "      <th></th>\n",
       "      <th></th>\n",
       "      <th></th>\n",
       "    </tr>\n",
       "  </thead>\n",
       "  <tbody>\n",
       "    <tr>\n",
       "      <th>1</th>\n",
       "      <td>40BD89EC85646EFB69E283F39C298E60</td>\n",
       "      <td>Пропуск FacePay</td>\n",
       "      <td>2402</td>\n",
       "      <td>Лефортово БКЛ</td>\n",
       "      <td>11007</td>\n",
       "      <td>Лефортово</td>\n",
       "      <td>11</td>\n",
       "      <td>Большая кольцевая</td>\n",
       "      <td>2022-09-12 05:00:13</td>\n",
       "      <td>216.316667</td>\n",
       "      <td>8001</td>\n",
       "    </tr>\n",
       "    <tr>\n",
       "      <th>2</th>\n",
       "      <td>126727A96489CC976A8C08E5CEB00542</td>\n",
       "      <td>СК учащегося 30 дней</td>\n",
       "      <td>110</td>\n",
       "      <td>Войковская ( Южный )</td>\n",
       "      <td>2006</td>\n",
       "      <td>Войковская</td>\n",
       "      <td>2</td>\n",
       "      <td>Замоскворецкая</td>\n",
       "      <td>2022-09-12 05:00:54</td>\n",
       "      <td>648.183333</td>\n",
       "      <td>9011</td>\n",
       "    </tr>\n",
       "    <tr>\n",
       "      <th>3</th>\n",
       "      <td>D28CE6A9E0E5B6D213470A97CFF32485</td>\n",
       "      <td>БСК дружинника г.Москвы</td>\n",
       "      <td>110</td>\n",
       "      <td>Войковская ( Южный )</td>\n",
       "      <td>2006</td>\n",
       "      <td>Войковская</td>\n",
       "      <td>2</td>\n",
       "      <td>Замоскворецкая</td>\n",
       "      <td>2022-09-12 05:00:55</td>\n",
       "      <td>865.333333</td>\n",
       "      <td>7022</td>\n",
       "    </tr>\n",
       "    <tr>\n",
       "      <th>4</th>\n",
       "      <td>015DA44B523C062B5BFEFF3FB0E64B9E</td>\n",
       "      <td>30 дней</td>\n",
       "      <td>110</td>\n",
       "      <td>Войковская ( Южный )</td>\n",
       "      <td>2006</td>\n",
       "      <td>Войковская</td>\n",
       "      <td>2</td>\n",
       "      <td>Замоскворецкая</td>\n",
       "      <td>2022-09-12 05:01:13</td>\n",
       "      <td>1048.233333</td>\n",
       "      <td>2022</td>\n",
       "    </tr>\n",
       "    <tr>\n",
       "      <th>5</th>\n",
       "      <td>95B19C6F3A504727AC3EA56EB7E3E80F</td>\n",
       "      <td>КОШЕЛЕК</td>\n",
       "      <td>110</td>\n",
       "      <td>Войковская ( Южный )</td>\n",
       "      <td>2006</td>\n",
       "      <td>Войковская</td>\n",
       "      <td>2</td>\n",
       "      <td>Замоскворецкая</td>\n",
       "      <td>2022-09-12 05:02:55</td>\n",
       "      <td>965.600000</td>\n",
       "      <td>2017</td>\n",
       "    </tr>\n",
       "  </tbody>\n",
       "</table>\n",
       "</div>"
      ],
      "text/plain": [
       "                           ticket_id           ticket_type_nm  entrance_id  \\\n",
       "id                                                                           \n",
       "1   40BD89EC85646EFB69E283F39C298E60          Пропуск FacePay         2402   \n",
       "2   126727A96489CC976A8C08E5CEB00542     СК учащегося 30 дней          110   \n",
       "3   D28CE6A9E0E5B6D213470A97CFF32485  БСК дружинника г.Москвы          110   \n",
       "4   015DA44B523C062B5BFEFF3FB0E64B9E                  30 дней          110   \n",
       "5   95B19C6F3A504727AC3EA56EB7E3E80F                  КОШЕЛЕК          110   \n",
       "\n",
       "             entrance_nm  station_id  station_nm  line_id            line_nm  \\\n",
       "id                                                                             \n",
       "1          Лефортово БКЛ       11007   Лефортово       11  Большая кольцевая   \n",
       "2   Войковская ( Южный )        2006  Войковская        2     Замоскворецкая   \n",
       "3   Войковская ( Южный )        2006  Войковская        2     Замоскворецкая   \n",
       "4   Войковская ( Южный )        2006  Войковская        2     Замоскворецкая   \n",
       "5   Войковская ( Южный )        2006  Войковская        2     Замоскворецкая   \n",
       "\n",
       "              pass_dttm  time_to_under  label  \n",
       "id                                             \n",
       "1   2022-09-12 05:00:13     216.316667   8001  \n",
       "2   2022-09-12 05:00:54     648.183333   9011  \n",
       "3   2022-09-12 05:00:55     865.333333   7022  \n",
       "4   2022-09-12 05:01:13    1048.233333   2022  \n",
       "5   2022-09-12 05:02:55     965.600000   2017  "
      ]
     },
     "execution_count": 2,
     "metadata": {},
     "output_type": "execute_result"
    }
   ],
   "source": [
    "# считывание обучающего датасета\n",
    "\n",
    "df_train = pd.read_csv('data/train_dataset_train.csv', index_col='id')\n",
    "df_train.head()"
   ]
  },
  {
   "cell_type": "code",
   "execution_count": 3,
   "id": "1a18cd11",
   "metadata": {},
   "outputs": [
    {
     "data": {
      "text/html": [
       "<div>\n",
       "<style scoped>\n",
       "    .dataframe tbody tr th:only-of-type {\n",
       "        vertical-align: middle;\n",
       "    }\n",
       "\n",
       "    .dataframe tbody tr th {\n",
       "        vertical-align: top;\n",
       "    }\n",
       "\n",
       "    .dataframe thead th {\n",
       "        text-align: right;\n",
       "    }\n",
       "</style>\n",
       "<table border=\"1\" class=\"dataframe\">\n",
       "  <thead>\n",
       "    <tr style=\"text-align: right;\">\n",
       "      <th></th>\n",
       "      <th>ticket_id</th>\n",
       "      <th>ticket_type_nm</th>\n",
       "      <th>entrance_id</th>\n",
       "      <th>entrance_nm</th>\n",
       "      <th>station_id</th>\n",
       "      <th>station_nm</th>\n",
       "      <th>line_id</th>\n",
       "      <th>line_nm</th>\n",
       "      <th>pass_dttm</th>\n",
       "    </tr>\n",
       "    <tr>\n",
       "      <th>id</th>\n",
       "      <th></th>\n",
       "      <th></th>\n",
       "      <th></th>\n",
       "      <th></th>\n",
       "      <th></th>\n",
       "      <th></th>\n",
       "      <th></th>\n",
       "      <th></th>\n",
       "      <th></th>\n",
       "    </tr>\n",
       "  </thead>\n",
       "  <tbody>\n",
       "    <tr>\n",
       "      <th>1091022</th>\n",
       "      <td>425A13E16226CA01032043111488E0F5</td>\n",
       "      <td>КОШЕЛЕК</td>\n",
       "      <td>110</td>\n",
       "      <td>Войковская ( Южный )</td>\n",
       "      <td>2006</td>\n",
       "      <td>Войковская</td>\n",
       "      <td>2</td>\n",
       "      <td>Замоскворецкая</td>\n",
       "      <td>2022-09-12 05:00:03</td>\n",
       "    </tr>\n",
       "    <tr>\n",
       "      <th>1091023</th>\n",
       "      <td>F94EDC107A4E054786882F9453C1B93F</td>\n",
       "      <td>Пропуск FacePay</td>\n",
       "      <td>184</td>\n",
       "      <td>Молодёжная (Западный)</td>\n",
       "      <td>3010</td>\n",
       "      <td>Молодёжная</td>\n",
       "      <td>3</td>\n",
       "      <td>Арбатско-Покровская</td>\n",
       "      <td>2022-09-12 05:00:45</td>\n",
       "    </tr>\n",
       "    <tr>\n",
       "      <th>1091024</th>\n",
       "      <td>8F13BFBA98A7DD34B11BD2DDCC5CA68E</td>\n",
       "      <td>СК студента 30 дней</td>\n",
       "      <td>110</td>\n",
       "      <td>Войковская ( Южный )</td>\n",
       "      <td>2006</td>\n",
       "      <td>Войковская</td>\n",
       "      <td>2</td>\n",
       "      <td>Замоскворецкая</td>\n",
       "      <td>2022-09-12 05:00:52</td>\n",
       "    </tr>\n",
       "    <tr>\n",
       "      <th>1091025</th>\n",
       "      <td>7B98691636EC418ABF6FEDDE4D7C68FC</td>\n",
       "      <td>КОШЕЛЕК</td>\n",
       "      <td>107</td>\n",
       "      <td>Сокол ( Южн./Вост. )</td>\n",
       "      <td>2018</td>\n",
       "      <td>Сокол</td>\n",
       "      <td>2</td>\n",
       "      <td>Замоскворецкая</td>\n",
       "      <td>2022-09-12 05:00:58</td>\n",
       "    </tr>\n",
       "    <tr>\n",
       "      <th>1091026</th>\n",
       "      <td>679C55C28CB36FB546FD104502C0B3DB</td>\n",
       "      <td>КОШЕЛЕК</td>\n",
       "      <td>110</td>\n",
       "      <td>Войковская ( Южный )</td>\n",
       "      <td>2006</td>\n",
       "      <td>Войковская</td>\n",
       "      <td>2</td>\n",
       "      <td>Замоскворецкая</td>\n",
       "      <td>2022-09-12 05:01:39</td>\n",
       "    </tr>\n",
       "  </tbody>\n",
       "</table>\n",
       "</div>"
      ],
      "text/plain": [
       "                                ticket_id       ticket_type_nm  entrance_id  \\\n",
       "id                                                                            \n",
       "1091022  425A13E16226CA01032043111488E0F5              КОШЕЛЕК          110   \n",
       "1091023  F94EDC107A4E054786882F9453C1B93F      Пропуск FacePay          184   \n",
       "1091024  8F13BFBA98A7DD34B11BD2DDCC5CA68E  СК студента 30 дней          110   \n",
       "1091025  7B98691636EC418ABF6FEDDE4D7C68FC              КОШЕЛЕК          107   \n",
       "1091026  679C55C28CB36FB546FD104502C0B3DB              КОШЕЛЕК          110   \n",
       "\n",
       "                   entrance_nm  station_id  station_nm  line_id  \\\n",
       "id                                                                \n",
       "1091022   Войковская ( Южный )        2006  Войковская        2   \n",
       "1091023  Молодёжная (Западный)        3010  Молодёжная        3   \n",
       "1091024   Войковская ( Южный )        2006  Войковская        2   \n",
       "1091025   Сокол ( Южн./Вост. )        2018       Сокол        2   \n",
       "1091026   Войковская ( Южный )        2006  Войковская        2   \n",
       "\n",
       "                     line_nm            pass_dttm  \n",
       "id                                                 \n",
       "1091022       Замоскворецкая  2022-09-12 05:00:03  \n",
       "1091023  Арбатско-Покровская  2022-09-12 05:00:45  \n",
       "1091024       Замоскворецкая  2022-09-12 05:00:52  \n",
       "1091025       Замоскворецкая  2022-09-12 05:00:58  \n",
       "1091026       Замоскворецкая  2022-09-12 05:01:39  "
      ]
     },
     "execution_count": 3,
     "metadata": {},
     "output_type": "execute_result"
    }
   ],
   "source": [
    "# считывание тестового датасета\n",
    "\n",
    "df_test = pd.read_csv('data/test_dataset_test.csv', index_col='id')\n",
    "df_test.head()"
   ]
  },
  {
   "cell_type": "code",
   "execution_count": 4,
   "id": "190e99bb",
   "metadata": {},
   "outputs": [
    {
     "data": {
      "text/plain": [
       "ticket_id          object\n",
       "ticket_type_nm     object\n",
       "entrance_id         int64\n",
       "entrance_nm        object\n",
       "station_id          int64\n",
       "station_nm         object\n",
       "line_id             int64\n",
       "line_nm            object\n",
       "pass_dttm          object\n",
       "time_to_under     float64\n",
       "label               int64\n",
       "dtype: object"
      ]
     },
     "execution_count": 4,
     "metadata": {},
     "output_type": "execute_result"
    }
   ],
   "source": [
    "# вывод типа данных в обучающем датасете\n",
    "\n",
    "df_train.dtypes"
   ]
  },
  {
   "cell_type": "code",
   "execution_count": 5,
   "id": "ecf1a506",
   "metadata": {},
   "outputs": [
    {
     "data": {
      "text/plain": [
       "ticket_id         object\n",
       "ticket_type_nm    object\n",
       "entrance_id        int64\n",
       "entrance_nm       object\n",
       "station_id         int64\n",
       "station_nm        object\n",
       "line_id            int64\n",
       "line_nm           object\n",
       "pass_dttm         object\n",
       "dtype: object"
      ]
     },
     "execution_count": 5,
     "metadata": {},
     "output_type": "execute_result"
    }
   ],
   "source": [
    "# вывод типа данных в тестовом датасете\n",
    "\n",
    "df_test.dtypes"
   ]
  },
  {
   "cell_type": "code",
   "execution_count": 6,
   "id": "fd7a32ea",
   "metadata": {},
   "outputs": [],
   "source": [
    "# смена типа данных\n",
    "\n",
    "df_train['pass_dttm'] = pd.to_datetime(df_train['pass_dttm'])"
   ]
  },
  {
   "cell_type": "code",
   "execution_count": 7,
   "id": "3d435039",
   "metadata": {},
   "outputs": [],
   "source": [
    "# смена типа данных\n",
    "\n",
    "df_test['pass_dttm'] = pd.to_datetime(df_test['pass_dttm'])"
   ]
  },
  {
   "cell_type": "markdown",
   "id": "4012f7b8",
   "metadata": {},
   "source": [
    "## Генерация новых признаков"
   ]
  },
  {
   "cell_type": "code",
   "execution_count": 8,
   "id": "497224eb",
   "metadata": {},
   "outputs": [],
   "source": [
    "# создание новых признаков (день недели, часы, минуты, секунды)\n",
    "\n",
    "df_train['dayofweek'] = df_train['pass_dttm'].dt.dayofweek\n",
    "df_train['hour'] = df_train['pass_dttm'].dt.hour\n",
    "df_train['minute'] = df_train['pass_dttm'].dt.minute\n",
    "df_train['second'] = df_train['pass_dttm'].dt.second"
   ]
  },
  {
   "cell_type": "code",
   "execution_count": 9,
   "id": "ea818268",
   "metadata": {},
   "outputs": [],
   "source": [
    "# создание новых признаков (день недели, часы, минуты, секунды)\n",
    "\n",
    "df_test['dayofweek'] = df_test['pass_dttm'].dt.dayofweek\n",
    "df_test['hour'] = df_test['pass_dttm'].dt.hour\n",
    "df_test['minute'] = df_test['pass_dttm'].dt.minute\n",
    "df_test['second'] = df_test['pass_dttm'].dt.second"
   ]
  },
  {
   "cell_type": "code",
   "execution_count": 10,
   "id": "6b23828f",
   "metadata": {},
   "outputs": [],
   "source": [
    "# создание нового признака количество минут с начала дня\n",
    "\n",
    "df_train['minutes'] = (df_train['hour'] * 60 * 60 + df_train['minute'] * 60 + df_train['second']) / 60"
   ]
  },
  {
   "cell_type": "code",
   "execution_count": 11,
   "id": "e5d43de3",
   "metadata": {},
   "outputs": [],
   "source": [
    "# создание нового признака количество минут с начала дня\n",
    "\n",
    "df_test['minutes'] = (df_test['hour'] * 60 * 60 + df_test['minute'] * 60 + df_test['second']) / 60"
   ]
  },
  {
   "cell_type": "code",
   "execution_count": 12,
   "id": "8da5104d",
   "metadata": {},
   "outputs": [],
   "source": [
    "# создание нового признака временных интервалов с начала дня с шагом 30 мин.\n",
    "\n",
    "df_train['minutes_interval'] = (df_train['minutes'] / 30).round().astype('int')"
   ]
  },
  {
   "cell_type": "code",
   "execution_count": 13,
   "id": "64d1270d",
   "metadata": {},
   "outputs": [],
   "source": [
    "# создание нового признака временных интервалов с начала дня с шагом 30 мин.\n",
    "\n",
    "df_test['minutes_interval'] = (df_test['minutes'] / 30).round().astype('int')"
   ]
  },
  {
   "cell_type": "code",
   "execution_count": 14,
   "id": "79725796",
   "metadata": {},
   "outputs": [],
   "source": [
    "# перекодировка признака id станции из-за корреляции с номером линии метро\n",
    "\n",
    "df_train['station_id_new'] = df_train['station_id'].apply(lambda x: int(str(x)[-3:]))"
   ]
  },
  {
   "cell_type": "code",
   "execution_count": 15,
   "id": "2589041a",
   "metadata": {},
   "outputs": [],
   "source": [
    "# перекодировка признака id станции из-за корреляции с номером линии метро\n",
    "\n",
    "df_test['station_id_new'] = df_test['station_id'].apply(lambda x: int(str(x)[-3:]))"
   ]
  },
  {
   "cell_type": "code",
   "execution_count": 16,
   "id": "bbe60389",
   "metadata": {},
   "outputs": [
    {
     "data": {
      "text/plain": [
       "{'СК студента на 3 месяца'}"
      ]
     },
     "execution_count": 16,
     "metadata": {},
     "output_type": "execute_result"
    }
   ],
   "source": [
    "# проверка соответствия признака типа билета в тренировочном и тестовом датасете\n",
    "\n",
    "set(df_test['ticket_type_nm']) - set(df_train['ticket_type_nm'])"
   ]
  },
  {
   "cell_type": "code",
   "execution_count": 17,
   "id": "f4283781",
   "metadata": {},
   "outputs": [
    {
     "data": {
      "text/plain": [
       "{'Билет 1 сутки ЕДИНЫЙ', 'ВЕСБ МО (тип 6)', 'ВЕСБ МО с сопровождающим'}"
      ]
     },
     "execution_count": 17,
     "metadata": {},
     "output_type": "execute_result"
    }
   ],
   "source": [
    "# проверка соответствия признака типа билета в тренировочном и тестовом датасете\n",
    "\n",
    "set(df_train['ticket_type_nm']) - set(df_test['ticket_type_nm'])"
   ]
  },
  {
   "cell_type": "code",
   "execution_count": 18,
   "id": "9030372c",
   "metadata": {},
   "outputs": [],
   "source": [
    "# создание множества наименований типа билета\n",
    "\n",
    "ticket_type_nm = list(set(df_test['ticket_type_nm']) | set(df_train['ticket_type_nm']))"
   ]
  },
  {
   "cell_type": "code",
   "execution_count": 19,
   "id": "0ba339a7",
   "metadata": {},
   "outputs": [
    {
     "data": {
      "text/plain": [
       "(60, 58, 61)"
      ]
     },
     "execution_count": 19,
     "metadata": {},
     "output_type": "execute_result"
    }
   ],
   "source": [
    "# проверка соответствия данных\n",
    "\n",
    "df_train['ticket_type_nm'].nunique(), df_test['ticket_type_nm'].nunique(), len(ticket_type_nm)"
   ]
  },
  {
   "cell_type": "code",
   "execution_count": 20,
   "id": "aab610c7",
   "metadata": {},
   "outputs": [],
   "source": [
    "# генерация кодов типа билета\n",
    "\n",
    "ticket_type_nm_id = [x for x in range(len(ticket_type_nm))]"
   ]
  },
  {
   "cell_type": "code",
   "execution_count": 21,
   "id": "bb4e22d7",
   "metadata": {},
   "outputs": [],
   "source": [
    "# создание словаря для преобразования переменной\n",
    "\n",
    "ticket_type_nm_dict = dict(zip(ticket_type_nm, ticket_type_nm_id))"
   ]
  },
  {
   "cell_type": "code",
   "execution_count": 22,
   "id": "085af73c",
   "metadata": {},
   "outputs": [],
   "source": [
    "# кодировка признака наименования типа билета\n",
    "\n",
    "df_train['ticket_type_nm_id'] = df_train['ticket_type_nm'].map(ticket_type_nm_dict).astype('int')"
   ]
  },
  {
   "cell_type": "code",
   "execution_count": 23,
   "id": "c170c58b",
   "metadata": {},
   "outputs": [],
   "source": [
    "# кодировка признака наименования типа билета\n",
    "\n",
    "df_test['ticket_type_nm_id'] = df_test['ticket_type_nm'].map(ticket_type_nm_dict).astype('int')"
   ]
  },
  {
   "cell_type": "code",
   "execution_count": 24,
   "id": "ce77e458",
   "metadata": {},
   "outputs": [],
   "source": [
    "# корреляция признаков\n",
    "\n",
    "df_train_corr = df_train.corr()"
   ]
  },
  {
   "cell_type": "code",
   "execution_count": 25,
   "id": "75916d4f",
   "metadata": {
    "scrolled": true
   },
   "outputs": [
    {
     "name": "stderr",
     "output_type": "stream",
     "text": [
      "C:\\Users\\rus_k\\AppData\\Local\\Temp\\ipykernel_12228\\2947991604.py:4: DeprecationWarning: `np.bool` is a deprecated alias for the builtin `bool`. To silence this warning, use `bool` by itself. Doing this will not modify any behavior and is safe. If you specifically wanted the numpy scalar type, use `np.bool_` here.\n",
      "Deprecated in NumPy 1.20; for more details and guidance: https://numpy.org/devdocs/release/1.20.0-notes.html#deprecations\n",
      "  mask = np.triu(np.ones_like(df_train_corr, dtype=np.bool))\n"
     ]
    },
    {
     "data": {
      "image/png": "[encoded data removed]",
      "text/plain": [
       "<Figure size 1008x720 with 2 Axes>"
      ]
     },
     "metadata": {
      "needs_background": "light"
     },
     "output_type": "display_data"
    }
   ],
   "source": [
    "# визуализация корреляции признаков\n",
    "\n",
    "plt.figure(figsize=(14, 10))\n",
    "mask = np.triu(np.ones_like(df_train_corr, dtype=np.bool))\n",
    "df_train_corr_heatmap = sns.heatmap(df_train_corr, mask=mask, vmin=-1, vmax=1, annot=True)\n",
    "df_train_corr_heatmap.set_title('Корреляция признаков', fontweight='bold', fontdict={'fontsize':14}, pad=16)\n",
    "plt.show()"
   ]
  },
  {
   "cell_type": "code",
   "execution_count": 26,
   "id": "f431534b",
   "metadata": {},
   "outputs": [
    {
     "data": {
      "text/plain": [
       "276"
      ]
     },
     "execution_count": 26,
     "metadata": {},
     "output_type": "execute_result"
    }
   ],
   "source": [
    "# количество уникальных значений станций метро для предсказания\n",
    "\n",
    "df_train['label'].nunique()"
   ]
  },
  {
   "cell_type": "markdown",
   "id": "71db9ea3",
   "metadata": {},
   "source": [
    "## Выделение выборок"
   ]
  },
  {
   "cell_type": "code",
   "execution_count": 27,
   "id": "49862261",
   "metadata": {},
   "outputs": [
    {
     "data": {
      "text/plain": [
       "Index(['ticket_id', 'ticket_type_nm', 'entrance_id', 'entrance_nm',\n",
       "       'station_id', 'station_nm', 'line_id', 'line_nm', 'pass_dttm',\n",
       "       'time_to_under', 'label', 'dayofweek', 'hour', 'minute', 'second',\n",
       "       'minutes', 'minutes_interval', 'station_id_new', 'ticket_type_nm_id'],\n",
       "      dtype='object')"
      ]
     },
     "execution_count": 27,
     "metadata": {},
     "output_type": "execute_result"
    }
   ],
   "source": [
    "# вывод наименований признаков\n",
    "\n",
    "df_train.columns"
   ]
  },
  {
   "cell_type": "code",
   "execution_count": 61,
   "id": "7411d467",
   "metadata": {},
   "outputs": [
    {
     "data": {
      "text/html": [
       "<div>\n",
       "<style scoped>\n",
       "    .dataframe tbody tr th:only-of-type {\n",
       "        vertical-align: middle;\n",
       "    }\n",
       "\n",
       "    .dataframe tbody tr th {\n",
       "        vertical-align: top;\n",
       "    }\n",
       "\n",
       "    .dataframe thead th {\n",
       "        text-align: right;\n",
       "    }\n",
       "</style>\n",
       "<table border=\"1\" class=\"dataframe\">\n",
       "  <thead>\n",
       "    <tr style=\"text-align: right;\">\n",
       "      <th></th>\n",
       "      <th>entrance_id</th>\n",
       "      <th>station_id</th>\n",
       "      <th>dayofweek</th>\n",
       "      <th>hour</th>\n",
       "      <th>minutes_interval</th>\n",
       "      <th>ticket_type_nm_id</th>\n",
       "    </tr>\n",
       "    <tr>\n",
       "      <th>id</th>\n",
       "      <th></th>\n",
       "      <th></th>\n",
       "      <th></th>\n",
       "      <th></th>\n",
       "      <th></th>\n",
       "      <th></th>\n",
       "    </tr>\n",
       "  </thead>\n",
       "  <tbody>\n",
       "    <tr>\n",
       "      <th>1</th>\n",
       "      <td>2402</td>\n",
       "      <td>11007</td>\n",
       "      <td>0</td>\n",
       "      <td>5</td>\n",
       "      <td>10</td>\n",
       "      <td>11</td>\n",
       "    </tr>\n",
       "    <tr>\n",
       "      <th>2</th>\n",
       "      <td>110</td>\n",
       "      <td>2006</td>\n",
       "      <td>0</td>\n",
       "      <td>5</td>\n",
       "      <td>10</td>\n",
       "      <td>30</td>\n",
       "    </tr>\n",
       "    <tr>\n",
       "      <th>3</th>\n",
       "      <td>110</td>\n",
       "      <td>2006</td>\n",
       "      <td>0</td>\n",
       "      <td>5</td>\n",
       "      <td>10</td>\n",
       "      <td>39</td>\n",
       "    </tr>\n",
       "    <tr>\n",
       "      <th>4</th>\n",
       "      <td>110</td>\n",
       "      <td>2006</td>\n",
       "      <td>0</td>\n",
       "      <td>5</td>\n",
       "      <td>10</td>\n",
       "      <td>25</td>\n",
       "    </tr>\n",
       "    <tr>\n",
       "      <th>5</th>\n",
       "      <td>110</td>\n",
       "      <td>2006</td>\n",
       "      <td>0</td>\n",
       "      <td>5</td>\n",
       "      <td>10</td>\n",
       "      <td>28</td>\n",
       "    </tr>\n",
       "  </tbody>\n",
       "</table>\n",
       "</div>"
      ],
      "text/plain": [
       "    entrance_id  station_id  dayofweek  hour  minutes_interval  \\\n",
       "id                                                               \n",
       "1          2402       11007          0     5                10   \n",
       "2           110        2006          0     5                10   \n",
       "3           110        2006          0     5                10   \n",
       "4           110        2006          0     5                10   \n",
       "5           110        2006          0     5                10   \n",
       "\n",
       "    ticket_type_nm_id  \n",
       "id                     \n",
       "1                  11  \n",
       "2                  30  \n",
       "3                  39  \n",
       "4                  25  \n",
       "5                  28  "
      ]
     },
     "execution_count": 61,
     "metadata": {},
     "output_type": "execute_result"
    }
   ],
   "source": [
    "# формирование данных для обучения и выборка признаков\n",
    "\n",
    "X_train = df_train[['entrance_id', 'station_id', 'dayofweek', 'hour', 'minutes_interval', 'ticket_type_nm_id']]\n",
    "X_train.head()"
   ]
  },
  {
   "cell_type": "code",
   "execution_count": 62,
   "id": "0322037b",
   "metadata": {},
   "outputs": [
    {
     "data": {
      "text/html": [
       "<div>\n",
       "<style scoped>\n",
       "    .dataframe tbody tr th:only-of-type {\n",
       "        vertical-align: middle;\n",
       "    }\n",
       "\n",
       "    .dataframe tbody tr th {\n",
       "        vertical-align: top;\n",
       "    }\n",
       "\n",
       "    .dataframe thead th {\n",
       "        text-align: right;\n",
       "    }\n",
       "</style>\n",
       "<table border=\"1\" class=\"dataframe\">\n",
       "  <thead>\n",
       "    <tr style=\"text-align: right;\">\n",
       "      <th></th>\n",
       "      <th>entrance_id</th>\n",
       "      <th>station_id</th>\n",
       "      <th>dayofweek</th>\n",
       "      <th>hour</th>\n",
       "      <th>minutes_interval</th>\n",
       "      <th>ticket_type_nm_id</th>\n",
       "    </tr>\n",
       "    <tr>\n",
       "      <th>id</th>\n",
       "      <th></th>\n",
       "      <th></th>\n",
       "      <th></th>\n",
       "      <th></th>\n",
       "      <th></th>\n",
       "      <th></th>\n",
       "    </tr>\n",
       "  </thead>\n",
       "  <tbody>\n",
       "    <tr>\n",
       "      <th>1091022</th>\n",
       "      <td>110</td>\n",
       "      <td>2006</td>\n",
       "      <td>0</td>\n",
       "      <td>5</td>\n",
       "      <td>10</td>\n",
       "      <td>28</td>\n",
       "    </tr>\n",
       "    <tr>\n",
       "      <th>1091023</th>\n",
       "      <td>184</td>\n",
       "      <td>3010</td>\n",
       "      <td>0</td>\n",
       "      <td>5</td>\n",
       "      <td>10</td>\n",
       "      <td>11</td>\n",
       "    </tr>\n",
       "    <tr>\n",
       "      <th>1091024</th>\n",
       "      <td>110</td>\n",
       "      <td>2006</td>\n",
       "      <td>0</td>\n",
       "      <td>5</td>\n",
       "      <td>10</td>\n",
       "      <td>4</td>\n",
       "    </tr>\n",
       "    <tr>\n",
       "      <th>1091025</th>\n",
       "      <td>107</td>\n",
       "      <td>2018</td>\n",
       "      <td>0</td>\n",
       "      <td>5</td>\n",
       "      <td>10</td>\n",
       "      <td>28</td>\n",
       "    </tr>\n",
       "    <tr>\n",
       "      <th>1091026</th>\n",
       "      <td>110</td>\n",
       "      <td>2006</td>\n",
       "      <td>0</td>\n",
       "      <td>5</td>\n",
       "      <td>10</td>\n",
       "      <td>28</td>\n",
       "    </tr>\n",
       "  </tbody>\n",
       "</table>\n",
       "</div>"
      ],
      "text/plain": [
       "         entrance_id  station_id  dayofweek  hour  minutes_interval  \\\n",
       "id                                                                    \n",
       "1091022          110        2006          0     5                10   \n",
       "1091023          184        3010          0     5                10   \n",
       "1091024          110        2006          0     5                10   \n",
       "1091025          107        2018          0     5                10   \n",
       "1091026          110        2006          0     5                10   \n",
       "\n",
       "         ticket_type_nm_id  \n",
       "id                          \n",
       "1091022                 28  \n",
       "1091023                 11  \n",
       "1091024                  4  \n",
       "1091025                 28  \n",
       "1091026                 28  "
      ]
     },
     "execution_count": 62,
     "metadata": {},
     "output_type": "execute_result"
    }
   ],
   "source": [
    "# формирование данных для обучения и выборка признаков\n",
    "\n",
    "X_test = df_test[['entrance_id', 'station_id', 'dayofweek', 'hour', 'minutes_interval', 'ticket_type_nm_id']]\n",
    "X_test.head()"
   ]
  },
  {
   "cell_type": "code",
   "execution_count": 63,
   "id": "76473cf8",
   "metadata": {},
   "outputs": [],
   "source": [
    "# предсказываемый признак\n",
    "\n",
    "y_train = df_train['label']"
   ]
  },
  {
   "cell_type": "markdown",
   "id": "d23ab588",
   "metadata": {},
   "source": [
    "## Обучение модели"
   ]
  },
  {
   "cell_type": "code",
   "execution_count": 64,
   "id": "0c5e6da7",
   "metadata": {},
   "outputs": [],
   "source": [
    "# инициализация модели\n",
    "\n",
    "clf = CategoricalNB(alpha=0.002, fit_prior=False)"
   ]
  },
  {
   "cell_type": "code",
   "execution_count": 65,
   "id": "9622df12",
   "metadata": {},
   "outputs": [
    {
     "data": {
      "text/html": [
       "<style>#sk-container-id-3 {color: black;background-color: white;}#sk-container-id-3 pre{padding: 0;}#sk-container-id-3 div.sk-toggleable {background-color: white;}#sk-container-id-3 label.sk-toggleable__label {cursor: pointer;display: block;width: 100%;margin-bottom: 0;padding: 0.3em;box-sizing: border-box;text-align: center;}#sk-container-id-3 label.sk-toggleable__label-arrow:before {content: \"▸\";float: left;margin-right: 0.25em;color: #696969;}#sk-container-id-3 label.sk-toggleable__label-arrow:hover:before {color: black;}#sk-container-id-3 div.sk-estimator:hover label.sk-toggleable__label-arrow:before {color: black;}#sk-container-id-3 div.sk-toggleable__content {max-height: 0;max-width: 0;overflow: hidden;text-align: left;background-color: #f0f8ff;}#sk-container-id-3 div.sk-toggleable__content pre {margin: 0.2em;color: black;border-radius: 0.25em;background-color: #f0f8ff;}#sk-container-id-3 input.sk-toggleable__control:checked~div.sk-toggleable__content {max-height: 200px;max-width: 100%;overflow: auto;}#sk-container-id-3 input.sk-toggleable__control:checked~label.sk-toggleable__label-arrow:before {content: \"▾\";}#sk-container-id-3 div.sk-estimator input.sk-toggleable__control:checked~label.sk-toggleable__label {background-color: #d4ebff;}#sk-container-id-3 div.sk-label input.sk-toggleable__control:checked~label.sk-toggleable__label {background-color: #d4ebff;}#sk-container-id-3 input.sk-hidden--visually {border: 0;clip: rect(1px 1px 1px 1px);clip: rect(1px, 1px, 1px, 1px);height: 1px;margin: -1px;overflow: hidden;padding: 0;position: absolute;width: 1px;}#sk-container-id-3 div.sk-estimator {font-family: monospace;background-color: #f0f8ff;border: 1px dotted black;border-radius: 0.25em;box-sizing: border-box;margin-bottom: 0.5em;}#sk-container-id-3 div.sk-estimator:hover {background-color: #d4ebff;}#sk-container-id-3 div.sk-parallel-item::after {content: \"\";width: 100%;border-bottom: 1px solid gray;flex-grow: 1;}#sk-container-id-3 div.sk-label:hover label.sk-toggleable__label {background-color: #d4ebff;}#sk-container-id-3 div.sk-serial::before {content: \"\";position: absolute;border-left: 1px solid gray;box-sizing: border-box;top: 0;bottom: 0;left: 50%;z-index: 0;}#sk-container-id-3 div.sk-serial {display: flex;flex-direction: column;align-items: center;background-color: white;padding-right: 0.2em;padding-left: 0.2em;position: relative;}#sk-container-id-3 div.sk-item {position: relative;z-index: 1;}#sk-container-id-3 div.sk-parallel {display: flex;align-items: stretch;justify-content: center;background-color: white;position: relative;}#sk-container-id-3 div.sk-item::before, #sk-container-id-3 div.sk-parallel-item::before {content: \"\";position: absolute;border-left: 1px solid gray;box-sizing: border-box;top: 0;bottom: 0;left: 50%;z-index: -1;}#sk-container-id-3 div.sk-parallel-item {display: flex;flex-direction: column;z-index: 1;position: relative;background-color: white;}#sk-container-id-3 div.sk-parallel-item:first-child::after {align-self: flex-end;width: 50%;}#sk-container-id-3 div.sk-parallel-item:last-child::after {align-self: flex-start;width: 50%;}#sk-container-id-3 div.sk-parallel-item:only-child::after {width: 0;}#sk-container-id-3 div.sk-dashed-wrapped {border: 1px dashed gray;margin: 0 0.4em 0.5em 0.4em;box-sizing: border-box;padding-bottom: 0.4em;background-color: white;}#sk-container-id-3 div.sk-label label {font-family: monospace;font-weight: bold;display: inline-block;line-height: 1.2em;}#sk-container-id-3 div.sk-label-container {text-align: center;}#sk-container-id-3 div.sk-container {/* jupyter's `normalize.less` sets `[hidden] { display: none; }` but bootstrap.min.css set `[hidden] { display: none !important; }` so we also need the `!important` here to be able to override the default hidden behavior on the sphinx rendered scikit-learn.org. See: https://github.com/scikit-learn/scikit-learn/issues/21755 */display: inline-block !important;position: relative;}#sk-container-id-3 div.sk-text-repr-fallback {display: none;}</style><div id=\"sk-container-id-3\" class=\"sk-top-container\"><div class=\"sk-text-repr-fallback\"><pre>CategoricalNB(alpha=0.002, fit_prior=False)</pre><b>In a Jupyter environment, please rerun this cell to show the HTML representation or trust the notebook. <br />On GitHub, the HTML representation is unable to render, please try loading this page with nbviewer.org.</b></div><div class=\"sk-container\" hidden><div class=\"sk-item\"><div class=\"sk-estimator sk-toggleable\"><input class=\"sk-toggleable__control sk-hidden--visually\" id=\"sk-estimator-id-3\" type=\"checkbox\" checked><label for=\"sk-estimator-id-3\" class=\"sk-toggleable__label sk-toggleable__label-arrow\">CategoricalNB</label><div class=\"sk-toggleable__content\"><pre>CategoricalNB(alpha=0.002, fit_prior=False)</pre></div></div></div></div></div>"
      ],
      "text/plain": [
       "CategoricalNB(alpha=0.002, fit_prior=False)"
      ]
     },
     "execution_count": 65,
     "metadata": {},
     "output_type": "execute_result"
    }
   ],
   "source": [
    "# обучение модели\n",
    "\n",
    "clf.fit(X_train, y_train)"
   ]
  },
  {
   "cell_type": "code",
   "execution_count": 66,
   "id": "6cd8780b",
   "metadata": {},
   "outputs": [],
   "source": [
    "# предсказание модели для обучающих данных\n",
    "\n",
    "y_pred_train = clf.predict(X_train)"
   ]
  },
  {
   "cell_type": "markdown",
   "id": "626928aa",
   "metadata": {},
   "source": [
    "## Оценка точности"
   ]
  },
  {
   "cell_type": "code",
   "execution_count": 67,
   "id": "fcf2f580",
   "metadata": {},
   "outputs": [
    {
     "data": {
      "text/plain": [
       "0.09154279484368814"
      ]
     },
     "execution_count": 67,
     "metadata": {},
     "output_type": "execute_result"
    }
   ],
   "source": [
    "# recall\n",
    "\n",
    "recall_train = recall_score(y_train, y_pred_train, average='macro')\n",
    "recall_train"
   ]
  },
  {
   "cell_type": "markdown",
   "id": "c9951623",
   "metadata": {},
   "source": [
    "## Предсказание для тестовых данных"
   ]
  },
  {
   "cell_type": "code",
   "execution_count": 53,
   "id": "fde07352",
   "metadata": {},
   "outputs": [],
   "source": [
    "# предсказание модели для тестовых данных\n",
    "\n",
    "y_pred_test = clf.predict(X_test)"
   ]
  },
  {
   "cell_type": "markdown",
   "id": "fc060ce0",
   "metadata": {},
   "source": [
    "## Сохранение полученных результатов в файл"
   ]
  },
  {
   "cell_type": "code",
   "execution_count": 40,
   "id": "43d0b50e",
   "metadata": {},
   "outputs": [
    {
     "data": {
      "text/html": [
       "<div>\n",
       "<style scoped>\n",
       "    .dataframe tbody tr th:only-of-type {\n",
       "        vertical-align: middle;\n",
       "    }\n",
       "\n",
       "    .dataframe tbody tr th {\n",
       "        vertical-align: top;\n",
       "    }\n",
       "\n",
       "    .dataframe thead th {\n",
       "        text-align: right;\n",
       "    }\n",
       "</style>\n",
       "<table border=\"1\" class=\"dataframe\">\n",
       "  <thead>\n",
       "    <tr style=\"text-align: right;\">\n",
       "      <th></th>\n",
       "      <th>id</th>\n",
       "      <th>time_to_under</th>\n",
       "      <th>label</th>\n",
       "    </tr>\n",
       "  </thead>\n",
       "  <tbody>\n",
       "    <tr>\n",
       "      <th>0</th>\n",
       "      <td>1091022</td>\n",
       "      <td>531.122910</td>\n",
       "      <td>2017</td>\n",
       "    </tr>\n",
       "    <tr>\n",
       "      <th>1</th>\n",
       "      <td>1091023</td>\n",
       "      <td>389.526245</td>\n",
       "      <td>3016</td>\n",
       "    </tr>\n",
       "    <tr>\n",
       "      <th>2</th>\n",
       "      <td>1091024</td>\n",
       "      <td>480.562119</td>\n",
       "      <td>2017</td>\n",
       "    </tr>\n",
       "    <tr>\n",
       "      <th>3</th>\n",
       "      <td>1091025</td>\n",
       "      <td>530.464020</td>\n",
       "      <td>2017</td>\n",
       "    </tr>\n",
       "    <tr>\n",
       "      <th>4</th>\n",
       "      <td>1091026</td>\n",
       "      <td>529.972824</td>\n",
       "      <td>2017</td>\n",
       "    </tr>\n",
       "  </tbody>\n",
       "</table>\n",
       "</div>"
      ],
      "text/plain": [
       "        id  time_to_under  label\n",
       "0  1091022     531.122910   2017\n",
       "1  1091023     389.526245   3016\n",
       "2  1091024     480.562119   2017\n",
       "3  1091025     530.464020   2017\n",
       "4  1091026     529.972824   2017"
      ]
     },
     "execution_count": 40,
     "metadata": {},
     "output_type": "execute_result"
    }
   ],
   "source": [
    "# считывание и вывод формы для предсказываемых признаков\n",
    "\n",
    "solution = pd.read_csv('data/solution.csv')\n",
    "solution.head()"
   ]
  },
  {
   "cell_type": "code",
   "execution_count": 41,
   "id": "1a866fd5",
   "metadata": {},
   "outputs": [],
   "source": [
    "# сохранение предсказанного значения времени очередного захода\n",
    "\n",
    "solution['label'] = y_pred_test"
   ]
  },
  {
   "cell_type": "code",
   "execution_count": 42,
   "id": "39ef19dc",
   "metadata": {},
   "outputs": [],
   "source": [
    "# сохранение в файл полученных результатов\n",
    "\n",
    "solution.to_csv('data/solution.csv', index=False)"
   ]
  },
  {
   "cell_type": "code",
   "execution_count": 43,
   "id": "cce7351c",
   "metadata": {},
   "outputs": [
    {
     "data": {
      "text/html": [
       "<div>\n",
       "<style scoped>\n",
       "    .dataframe tbody tr th:only-of-type {\n",
       "        vertical-align: middle;\n",
       "    }\n",
       "\n",
       "    .dataframe tbody tr th {\n",
       "        vertical-align: top;\n",
       "    }\n",
       "\n",
       "    .dataframe thead th {\n",
       "        text-align: right;\n",
       "    }\n",
       "</style>\n",
       "<table border=\"1\" class=\"dataframe\">\n",
       "  <thead>\n",
       "    <tr style=\"text-align: right;\">\n",
       "      <th></th>\n",
       "      <th>id</th>\n",
       "      <th>time_to_under</th>\n",
       "      <th>label</th>\n",
       "    </tr>\n",
       "  </thead>\n",
       "  <tbody>\n",
       "    <tr>\n",
       "      <th>0</th>\n",
       "      <td>1091022</td>\n",
       "      <td>531.122910</td>\n",
       "      <td>2022</td>\n",
       "    </tr>\n",
       "    <tr>\n",
       "      <th>1</th>\n",
       "      <td>1091023</td>\n",
       "      <td>389.526245</td>\n",
       "      <td>3016</td>\n",
       "    </tr>\n",
       "    <tr>\n",
       "      <th>2</th>\n",
       "      <td>1091024</td>\n",
       "      <td>480.562119</td>\n",
       "      <td>2022</td>\n",
       "    </tr>\n",
       "    <tr>\n",
       "      <th>3</th>\n",
       "      <td>1091025</td>\n",
       "      <td>530.464020</td>\n",
       "      <td>2022</td>\n",
       "    </tr>\n",
       "    <tr>\n",
       "      <th>4</th>\n",
       "      <td>1091026</td>\n",
       "      <td>529.972824</td>\n",
       "      <td>2022</td>\n",
       "    </tr>\n",
       "  </tbody>\n",
       "</table>\n",
       "</div>"
      ],
      "text/plain": [
       "        id  time_to_under  label\n",
       "0  1091022     531.122910   2022\n",
       "1  1091023     389.526245   3016\n",
       "2  1091024     480.562119   2022\n",
       "3  1091025     530.464020   2022\n",
       "4  1091026     529.972824   2022"
      ]
     },
     "execution_count": 43,
     "metadata": {},
     "output_type": "execute_result"
    }
   ],
   "source": [
    "# вывод данных\n",
    "\n",
    "solution.head()"
   ]
  },
  {
   "cell_type": "markdown",
   "id": "48d93430",
   "metadata": {},
   "source": [
    "## Анализ полученных результатов на тесте"
   ]
  },
  {
   "cell_type": "code",
   "execution_count": 54,
   "id": "033e886f",
   "metadata": {},
   "outputs": [
    {
     "data": {
      "text/plain": [
       "0.033084"
      ]
     },
     "execution_count": 54,
     "metadata": {},
     "output_type": "execute_result"
    }
   ],
   "source": [
    "0.292004 - 0.258920"
   ]
  },
  {
   "cell_type": "code",
   "execution_count": 57,
   "id": "1d87d4e3",
   "metadata": {},
   "outputs": [
    {
     "data": {
      "text/html": [
       "<div>\n",
       "<style scoped>\n",
       "    .dataframe tbody tr th:only-of-type {\n",
       "        vertical-align: middle;\n",
       "    }\n",
       "\n",
       "    .dataframe tbody tr th {\n",
       "        vertical-align: top;\n",
       "    }\n",
       "\n",
       "    .dataframe thead th {\n",
       "        text-align: right;\n",
       "    }\n",
       "</style>\n",
       "<table border=\"1\" class=\"dataframe\">\n",
       "  <thead>\n",
       "    <tr style=\"text-align: right;\">\n",
       "      <th></th>\n",
       "      <th>score</th>\n",
       "    </tr>\n",
       "  </thead>\n",
       "  <tbody>\n",
       "    <tr>\n",
       "      <th>recall_train</th>\n",
       "      <td>0.089037</td>\n",
       "    </tr>\n",
       "    <tr>\n",
       "      <th>r2_score_test</th>\n",
       "      <td>0.033084</td>\n",
       "    </tr>\n",
       "  </tbody>\n",
       "</table>\n",
       "</div>"
      ],
      "text/plain": [
       "                  score\n",
       "recall_train   0.089037\n",
       "r2_score_test  0.033084"
      ]
     },
     "execution_count": 57,
     "metadata": {},
     "output_type": "execute_result"
    }
   ],
   "source": [
    "df_recall = pd.DataFrame([recall_train, 0.033084], \\\n",
    "                           index=['recall_train', 'r2_score_test'], \\\n",
    "                           columns=['score'])\n",
    "df_recall"
   ]
  },
  {
   "cell_type": "code",
   "execution_count": 59,
   "id": "8195406b",
   "metadata": {},
   "outputs": [
    {
     "data": {
      "image/png": "[encoded data removed]",
      "text/plain": [
       "<Figure size 432x288 with 1 Axes>"
      ]
     },
     "metadata": {
      "needs_background": "light"
     },
     "output_type": "display_data"
    }
   ],
   "source": [
    "# визуализация полученной точности\n",
    "\n",
    "plt.plot(df_recall)\n",
    "plt.ylim(0, 0.1)\n",
    "plt.show()"
   ]
  },
  {
   "cell_type": "code",
   "execution_count": 60,
   "id": "a7077fd2",
   "metadata": {},
   "outputs": [
    {
     "data": {
      "image/png": "[encoded data removed]",
      "text/plain": [
       "<Figure size 432x288 with 1 Axes>"
      ]
     },
     "metadata": {
      "needs_background": "light"
     },
     "output_type": "display_data"
    }
   ],
   "source": [
    "# визуализация полученной точности\n",
    "\n",
    "plt.plot(df_recall)\n",
    "plt.show()"
   ]
  },
  {
   "cell_type": "code",
   "execution_count": null,
   "id": "9e29c987",
   "metadata": {},
   "outputs": [],
   "source": []
  }
 ],
 "metadata": {
  "kernelspec": {
   "display_name": "Python 3 (ipykernel)",
   "language": "python",
   "name": "python3"
  },
  "language_info": {
   "codemirror_mode": {
    "name": "ipython",
    "version": 3
   },
   "file_extension": ".py",
   "mimetype": "text/x-python",
   "name": "python",
   "nbconvert_exporter": "python",
   "pygments_lexer": "ipython3",
   "version": "3.9.12"
  }
 },
 "nbformat": 4,
 "nbformat_minor": 5
}
